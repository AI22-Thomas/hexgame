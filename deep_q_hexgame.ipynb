{
 "cells": [
  {
   "cell_type": "code",
   "execution_count": 1,
   "metadata": {
    "collapsed": true,
    "ExecuteTime": {
     "end_time": "2023-05-23T00:13:04.685881800Z",
     "start_time": "2023-05-23T00:13:04.593883400Z"
    }
   },
   "outputs": [],
   "source": [
    "import numpy as np\n",
    "\n",
    "from hex_engine import HexEngine\n",
    "\n",
    "\n",
    "class HexEnum:\n",
    "    # these are indexes into the board array\n",
    "    # NONE = 0\n",
    "    # WHITE = 1\n",
    "    # WHITE_CONNECTED_LEFT = 2\n",
    "    # WHITE_CONNECTED_RIGHT = 3\n",
    "    # BLACK = 4\n",
    "    # BLACK_CONNECTED_TOP = 5\n",
    "    # BLACK_CONNECTED_BOTTOM = 6\n",
    "\n",
    "    WHITE = 0\n",
    "    WHITE_CONNECTED_LEFT = 1\n",
    "    WHITE_CONNECTED_RIGHT = 2\n",
    "    BLACK = 3\n",
    "    BLACK_CONNECTED_TOP = 4\n",
    "    BLACK_CONNECTED_BOTTOM = 5\n",
    "\n",
    "\n",
    "BOARD_SIZE = 3"
   ]
  },
  {
   "cell_type": "code",
   "execution_count": 2,
   "outputs": [],
   "source": [
    "def create_board(size):\n",
    "    # Board is padded with 1 rows and 1 columns on each side\n",
    "    board = []\n",
    "    for row in range(size + 2):\n",
    "        board.append([])\n",
    "        for column in range(size + 2):\n",
    "            # First two columns and last two are white\n",
    "            # First two rows and last two are black\n",
    "            black_top = 1 if row < 1 else 0\n",
    "            black_bottom = 1 if row > size else 0\n",
    "            white_left = 1 if column < 1 else 0\n",
    "            white_right = 1 if column > size else 0\n",
    "            black = 1 if black_top or black_bottom else 0\n",
    "            white = 1 if white_left or white_right else 0\n",
    "            board[row].append([white, white_left, white_right, black, black_top, black_bottom])\n",
    "            # if black and white:\n",
    "            #     board[row].append(0)\n",
    "            # elif black_top:\n",
    "            #     board[row].append(HexEnum.BLACK_CONNECTED_TOP)\n",
    "            # elif black_bottom:\n",
    "            #     board[row].append(HexEnum.BLACK_CONNECTED_BOTTOM)\n",
    "            # elif white_left:\n",
    "            #     board[row].append(HexEnum.WHITE_CONNECTED_LEFT)\n",
    "            # elif white_right:\n",
    "            #     board[row].append(HexEnum.WHITE_CONNECTED_RIGHT)\n",
    "            # else:\n",
    "            #     board[row].append(0)\n",
    "    return board"
   ],
   "metadata": {
    "collapsed": false,
    "ExecuteTime": {
     "end_time": "2023-05-23T00:13:04.701882600Z",
     "start_time": "2023-05-23T00:13:04.687881400Z"
    }
   }
  },
  {
   "cell_type": "code",
   "execution_count": 3,
   "outputs": [],
   "source": [
    "def draw_board(board):\n",
    "    for i in range(len(board)):\n",
    "        for j in range(len(board)):\n",
    "            # w = white, b = black, ' ' = empty\n",
    "            # W = white connected, B = black connected\n",
    "            # X = both colors\n",
    "            if board[i][j][0] == 1 and board[i][j][3] == 1:\n",
    "                print('X', end='')\n",
    "            elif board[i][j][0] == 1:\n",
    "                if board[i][j][1] == 1:\n",
    "                    print('W', end='')\n",
    "                elif board[i][j][2] == 1:\n",
    "                    print('W', end='')\n",
    "                else:\n",
    "                    print('w', end='')\n",
    "            elif board[i][j][3] == 1:\n",
    "                if board[i][j][4] == 1:\n",
    "                    print('B', end='')\n",
    "                elif board[i][j][5] == 1:\n",
    "                    print('B', end='')\n",
    "                else:\n",
    "                    print('b', end='')\n",
    "            else:\n",
    "                print(' ', end='')\n",
    "            # if board[i][j] == 0:\n",
    "            #     print(' ', end='')\n",
    "            # elif board[i][j] == HexEnum.WHITE_CONNECTED_LEFT:\n",
    "            #     print('W', end='')\n",
    "            # elif board[i][j] == HexEnum.WHITE_CONNECTED_RIGHT:\n",
    "            #     print('W', end='')\n",
    "            # elif board[i][j] == HexEnum.BLACK_CONNECTED_TOP:\n",
    "            #     print('B', end='')\n",
    "            # elif board[i][j] == HexEnum.BLACK_CONNECTED_BOTTOM:\n",
    "            #     print('B', end='')\n",
    "            # elif board[i][j] == HexEnum.BLACK:\n",
    "            #     print('b', end='')\n",
    "            # elif board[i][j] == HexEnum.WHITE:\n",
    "            #     print('w', end='')\n",
    "        print()"
   ],
   "metadata": {
    "collapsed": false,
    "ExecuteTime": {
     "end_time": "2023-05-23T00:13:04.720882900Z",
     "start_time": "2023-05-23T00:13:04.704882100Z"
    }
   }
  },
  {
   "cell_type": "code",
   "execution_count": 4,
   "outputs": [
    {
     "name": "stdout",
     "output_type": "stream",
     "text": [
      "XBBBX\n",
      "W   W\n",
      "W   W\n",
      "W   W\n",
      "XBBBX\n"
     ]
    }
   ],
   "source": [
    "draw_board(create_board(BOARD_SIZE))"
   ],
   "metadata": {
    "collapsed": false,
    "ExecuteTime": {
     "end_time": "2023-05-23T00:13:04.732884900Z",
     "start_time": "2023-05-23T00:13:04.718882800Z"
    }
   }
  },
  {
   "cell_type": "code",
   "execution_count": 5,
   "outputs": [],
   "source": [
    "def convert_board(engine, engine_board):\n",
    "    board = create_board(BOARD_SIZE)\n",
    "    for i in range(len(engine_board)):\n",
    "        for j in range(len(engine_board)):\n",
    "            if engine_board[i][j] == -1:\n",
    "                board[i + 1][j + 1] = [0, 0, 0, 1, 0, 0]\n",
    "                # board[i + 2][j + 2] = HexEnum.BLACK\n",
    "                # Breadth first search to find connected black pieces\n",
    "\n",
    "            elif engine_board[i][j] == 1:\n",
    "                board[i + 1][j + 1] = [1, 0, 0, 0, 0, 0]\n",
    "                # board[i + 2][j + 2] = HexEnum.WHITE\n",
    "\n",
    "    def rec_walk(visited, position, hex_enum, color):\n",
    "        if position in visited:\n",
    "            return\n",
    "        visited.add(position)\n",
    "        adjacent = engine._get_adjacent(position)\n",
    "        for adj in adjacent:\n",
    "            if engine_board[adj[0]][adj[1]] == color:\n",
    "                board[adj[0] + 1][adj[1] + 1][hex_enum] = 1\n",
    "                # board[adj[0] + 2][adj[1] + 2] = hex_enum\n",
    "                rec_walk(visited, adj, hex_enum, color)\n",
    "\n",
    "    # From all edges, find connected pieces\n",
    "\n",
    "    for i in range(0, BOARD_SIZE):\n",
    "        # Top edge\n",
    "        if engine_board[0][i] == -1:\n",
    "            board[1][i + 1][HexEnum.BLACK_CONNECTED_TOP] = 1\n",
    "            # board[2][i + 2] = HexEnum.BLACK_CONNECTED_TOP\n",
    "            visited = {0, i}\n",
    "            rec_walk(visited, (0, i), HexEnum.BLACK_CONNECTED_TOP, -1)\n",
    "        # Bottom edge\n",
    "        if engine_board[BOARD_SIZE - 1][i] == -1:\n",
    "            board[BOARD_SIZE][i + 1][HexEnum.BLACK_CONNECTED_BOTTOM] = 1\n",
    "            # board[BOARD_SIZE + 1][i + 2] = HexEnum.BLACK_CONNECTED_BOTTOM\n",
    "            visited = {BOARD_SIZE - 1, i}\n",
    "            rec_walk(visited, (BOARD_SIZE - 1, i), HexEnum.BLACK_CONNECTED_BOTTOM, -1)\n",
    "        # Left edge\n",
    "        if engine_board[i][0] == 1:\n",
    "            board[i + 1][1][HexEnum.WHITE_CONNECTED_LEFT] = 1\n",
    "            # board[i + 2][2] = HexEnum.WHITE_CONNECTED_LEFT\n",
    "            visited = {i, 0}\n",
    "            rec_walk(visited, (i, 0), HexEnum.WHITE_CONNECTED_LEFT, 1)\n",
    "        # Right edge\n",
    "        if engine_board[i][BOARD_SIZE - 1] == 1:\n",
    "            board[i + 1][BOARD_SIZE][HexEnum.WHITE_CONNECTED_RIGHT] = 1\n",
    "            # board[i + 2][BOARD_SIZE + 1] = HexEnum.WHITE_CONNECTED_RIGHT\n",
    "            visited = {i, BOARD_SIZE - 1}\n",
    "            rec_walk(visited, (i, BOARD_SIZE - 1), HexEnum.WHITE_CONNECTED_RIGHT, 1)\n",
    "\n",
    "    return board"
   ],
   "metadata": {
    "collapsed": false,
    "ExecuteTime": {
     "end_time": "2023-05-23T00:13:04.777155300Z",
     "start_time": "2023-05-23T00:13:04.733885100Z"
    }
   }
  },
  {
   "cell_type": "code",
   "execution_count": 6,
   "outputs": [
    {
     "name": "stdout",
     "output_type": "stream",
     "text": [
      "XBBBX\n",
      "WBB W\n",
      "WB  W\n",
      "WWWWW\n",
      "XBBBX\n"
     ]
    }
   ],
   "source": [
    "# random test board filled with -1 and 1 and 0\n",
    "test_board = np.random.randint(-1, 2, size=(BOARD_SIZE, BOARD_SIZE))\n",
    "test_board = convert_board(HexEngine(BOARD_SIZE), test_board)\n",
    "draw_board(test_board)"
   ],
   "metadata": {
    "collapsed": false,
    "ExecuteTime": {
     "end_time": "2023-05-23T00:13:04.786158200Z",
     "start_time": "2023-05-23T00:13:04.749883200Z"
    }
   }
  },
  {
   "cell_type": "code",
   "execution_count": 7,
   "outputs": [],
   "source": [
    "class HexEnv(object):\n",
    "    def __init__(self):\n",
    "        self.engine = HexEngine(BOARD_SIZE)\n",
    "        self.board = create_board(BOARD_SIZE)\n",
    "\n",
    "    def reset(self):\n",
    "        self.engine.reset()\n",
    "        self.board = create_board(BOARD_SIZE)\n",
    "\n",
    "        np_board = np.array(self.board)\n",
    "        np_board = np_board.transpose((2, 0, 1))\n",
    "        # np_board = np_board.flatten()\n",
    "\n",
    "        return np_board, None\n",
    "\n",
    "    def action_space(self):\n",
    "        return [self.engine.coordinate_to_scalar(x) for x in\n",
    "                self.engine.get_action_space(recode_black_as_white=self.engine.player == -1)]\n",
    "\n",
    "    def step(self, action):\n",
    "        action = self.engine.scalar_to_coordinates(action)\n",
    "\n",
    "        if self.engine.player == -1:\n",
    "            action = self.engine.recode_coordinates(action)\n",
    "\n",
    "        self.engine.move(action)\n",
    "        e_board = self.engine.board\n",
    "        if self.engine.player == -1:\n",
    "            e_board = self.engine.recode_black_as_white()\n",
    "        self.board = convert_board(self.engine, e_board)\n",
    "\n",
    "        reward = 0\n",
    "        if self.engine.winner != 0:\n",
    "            reward = 1 if self.engine.winner == 1 else -1\n",
    "\n",
    "        np_board = np.array(self.board)\n",
    "        np_board = np_board.transpose((2, 0, 1))\n",
    "        # np_board = np_board.flatten()\n",
    "        return np_board, reward, self.engine.winner != 0, self.action_space()\n",
    "\n",
    "    def close(self):\n",
    "        pass"
   ],
   "metadata": {
    "collapsed": false,
    "ExecuteTime": {
     "end_time": "2023-05-23T00:13:04.786158200Z",
     "start_time": "2023-05-23T00:13:04.777155300Z"
    }
   }
  },
  {
   "cell_type": "code",
   "execution_count": 8,
   "outputs": [
    {
     "name": "stdout",
     "output_type": "stream",
     "text": [
      "Sequential(\n",
      "  (conv): Conv2d(6, 32, kernel_size=(3, 3), stride=(1, 1), padding=(1, 1))\n",
      "  (relu1): ReLU()\n",
      "  (flatten): Flatten(start_dim=1, end_dim=-1)\n",
      "  (fc1): Linear(in_features=800, out_features=128, bias=True)\n",
      "  (relu2): ReLU()\n",
      "  (fc2): Linear(in_features=128, out_features=9, bias=True)\n",
      ")\n",
      "Sequential(\n",
      "  (conv): Conv2d(6, 32, kernel_size=(3, 3), stride=(1, 1), padding=(1, 1))\n",
      "  (relu1): ReLU()\n",
      "  (flatten): Flatten(start_dim=1, end_dim=-1)\n",
      "  (fc1): Linear(in_features=800, out_features=128, bias=True)\n",
      "  (relu2): ReLU()\n",
      "  (fc2): Linear(in_features=128, out_features=9, bias=True)\n",
      ")\n"
     ]
    }
   ],
   "source": [
    "from deep_q import DeepQ\n",
    "\n",
    "env = HexEnv()\n",
    "q_learner = DeepQ(env)\n",
    "q_learner.initialize_networks()"
   ],
   "metadata": {
    "collapsed": false,
    "ExecuteTime": {
     "end_time": "2023-05-23T00:13:07.919785Z",
     "start_time": "2023-05-23T00:13:04.781157600Z"
    }
   }
  },
  {
   "cell_type": "code",
   "execution_count": 9,
   "outputs": [
    {
     "data": {
      "text/plain": "<Figure size 640x480 with 1 Axes>",
      "image/png": "[encoded data removed]"
     },
     "metadata": {},
     "output_type": "display_data"
    },
    {
     "ename": "AssertionError",
     "evalue": "These coordinates already contain a stone.",
     "output_type": "error",
     "traceback": [
      "\u001B[1;31m---------------------------------------------------------------------------\u001B[0m",
      "\u001B[1;31mAssertionError\u001B[0m                            Traceback (most recent call last)",
      "Cell \u001B[1;32mIn[9], line 4\u001B[0m\n\u001B[0;32m      1\u001B[0m \u001B[38;5;28;01mimport\u001B[39;00m \u001B[38;5;21;01msys\u001B[39;00m\n\u001B[0;32m      3\u001B[0m env\u001B[38;5;241m.\u001B[39mreset()\n\u001B[1;32m----> 4\u001B[0m \u001B[43mq_learner\u001B[49m\u001B[38;5;241;43m.\u001B[39;49m\u001B[43mlearn\u001B[49m\u001B[43m(\u001B[49m\u001B[43mbatch_size\u001B[49m\u001B[38;5;241;43m=\u001B[39;49m\u001B[38;5;241;43m64\u001B[39;49m\u001B[43m,\u001B[49m\u001B[43m \u001B[49m\u001B[43mnum_episodes\u001B[49m\u001B[38;5;241;43m=\u001B[39;49m\u001B[43msys\u001B[49m\u001B[38;5;241;43m.\u001B[39;49m\u001B[43mmaxsize\u001B[49m\u001B[43m,\u001B[49m\u001B[43m \u001B[49m\u001B[43meps_start\u001B[49m\u001B[38;5;241;43m=\u001B[39;49m\u001B[38;5;241;43m0.1\u001B[39;49m\u001B[43m,\u001B[49m\u001B[43m \u001B[49m\u001B[43meps_end\u001B[49m\u001B[38;5;241;43m=\u001B[39;49m\u001B[38;5;241;43m0.1\u001B[39;49m\u001B[43m,\u001B[49m\u001B[43m \u001B[49m\u001B[43meps_decay\u001B[49m\u001B[38;5;241;43m=\u001B[39;49m\u001B[38;5;241;43m1\u001B[39;49m\u001B[43m,\u001B[49m\u001B[43m \u001B[49m\u001B[43mgamma\u001B[49m\u001B[38;5;241;43m=\u001B[39;49m\u001B[38;5;241;43m1\u001B[39;49m\u001B[43m,\u001B[49m\n\u001B[0;32m      5\u001B[0m \u001B[43m                \u001B[49m\u001B[43mtarget_net_update_rate\u001B[49m\u001B[38;5;241;43m=\u001B[39;49m\u001B[38;5;241;43m0.0005\u001B[39;49m\u001B[43m,\u001B[49m\u001B[43m \u001B[49m\u001B[43mlearning_rate\u001B[49m\u001B[38;5;241;43m=\u001B[39;49m\u001B[38;5;241;43m0.001\u001B[39;49m\u001B[43m,\u001B[49m\u001B[43m \u001B[49m\u001B[43mprint_every\u001B[49m\u001B[38;5;241;43m=\u001B[39;49m\u001B[38;5;241;43m50\u001B[39;49m\u001B[43m)\u001B[49m\n",
      "File \u001B[1;32mX:\\FH Technikum\\REIL\\HexGame\\deep_q.py:238\u001B[0m, in \u001B[0;36mDeepQ.learn\u001B[1;34m(self, num_episodes, batch_size, gamma, eps_start, eps_end, eps_decay, target_net_update_rate, learning_rate, print_every, save_every)\u001B[0m\n\u001B[0;32m    236\u001B[0m steps_done \u001B[38;5;241m+\u001B[39m\u001B[38;5;241m=\u001B[39m \u001B[38;5;241m1\u001B[39m\n\u001B[0;32m    237\u001B[0m action \u001B[38;5;241m=\u001B[39m \u001B[38;5;28mself\u001B[39m\u001B[38;5;241m.\u001B[39m_eps_greedy_action(state, eps\u001B[38;5;241m=\u001B[39meps_by_step(steps_done))\n\u001B[1;32m--> 238\u001B[0m observation, reward, terminated, next_action_space \u001B[38;5;241m=\u001B[39m \u001B[38;5;28;43mself\u001B[39;49m\u001B[38;5;241;43m.\u001B[39;49m\u001B[43menv\u001B[49m\u001B[38;5;241;43m.\u001B[39;49m\u001B[43mstep\u001B[49m\u001B[43m(\u001B[49m\u001B[43maction\u001B[49m\u001B[38;5;241;43m.\u001B[39;49m\u001B[43mitem\u001B[49m\u001B[43m(\u001B[49m\u001B[43m)\u001B[49m\u001B[43m)\u001B[49m\n\u001B[0;32m    240\u001B[0m reward_t \u001B[38;5;241m=\u001B[39m torch\u001B[38;5;241m.\u001B[39mtensor([reward], device\u001B[38;5;241m=\u001B[39m\u001B[38;5;28mself\u001B[39m\u001B[38;5;241m.\u001B[39mdevice)\n\u001B[0;32m    241\u001B[0m done \u001B[38;5;241m=\u001B[39m terminated\n",
      "Cell \u001B[1;32mIn[7], line 26\u001B[0m, in \u001B[0;36mHexEnv.step\u001B[1;34m(self, action)\u001B[0m\n\u001B[0;32m     23\u001B[0m \u001B[38;5;28;01mif\u001B[39;00m \u001B[38;5;28mself\u001B[39m\u001B[38;5;241m.\u001B[39mengine\u001B[38;5;241m.\u001B[39mplayer \u001B[38;5;241m==\u001B[39m \u001B[38;5;241m-\u001B[39m\u001B[38;5;241m1\u001B[39m:\n\u001B[0;32m     24\u001B[0m     action \u001B[38;5;241m=\u001B[39m \u001B[38;5;28mself\u001B[39m\u001B[38;5;241m.\u001B[39mengine\u001B[38;5;241m.\u001B[39mrecode_coordinates(action)\n\u001B[1;32m---> 26\u001B[0m \u001B[38;5;28;43mself\u001B[39;49m\u001B[38;5;241;43m.\u001B[39;49m\u001B[43mengine\u001B[49m\u001B[38;5;241;43m.\u001B[39;49m\u001B[43mmove\u001B[49m\u001B[43m(\u001B[49m\u001B[43maction\u001B[49m\u001B[43m)\u001B[49m\n\u001B[0;32m     27\u001B[0m e_board \u001B[38;5;241m=\u001B[39m \u001B[38;5;28mself\u001B[39m\u001B[38;5;241m.\u001B[39mengine\u001B[38;5;241m.\u001B[39mboard\n\u001B[0;32m     28\u001B[0m \u001B[38;5;28;01mif\u001B[39;00m \u001B[38;5;28mself\u001B[39m\u001B[38;5;241m.\u001B[39mengine\u001B[38;5;241m.\u001B[39mplayer \u001B[38;5;241m==\u001B[39m \u001B[38;5;241m-\u001B[39m\u001B[38;5;241m1\u001B[39m:\n",
      "File \u001B[1;32mX:\\FH Technikum\\REIL\\HexGame\\hex_engine.py:53\u001B[0m, in \u001B[0;36mHexEngine.move\u001B[1;34m(self, coordinates)\u001B[0m\n\u001B[0;32m     47\u001B[0m \u001B[38;5;250m\u001B[39m\u001B[38;5;124;03m\"\"\"\u001B[39;00m\n\u001B[0;32m     48\u001B[0m \u001B[38;5;124;03mThis method enacts a move.\u001B[39;00m\n\u001B[0;32m     49\u001B[0m \u001B[38;5;124;03mThe variable 'coordinates' is a tuple of board coordinates.\u001B[39;00m\n\u001B[0;32m     50\u001B[0m \u001B[38;5;124;03mThe variable 'player_num' is either 1 (white) or -1 (black).\u001B[39;00m\n\u001B[0;32m     51\u001B[0m \u001B[38;5;124;03m\"\"\"\u001B[39;00m\n\u001B[0;32m     52\u001B[0m \u001B[38;5;28;01massert\u001B[39;00m (\u001B[38;5;28mself\u001B[39m\u001B[38;5;241m.\u001B[39mwinner \u001B[38;5;241m==\u001B[39m \u001B[38;5;241m0\u001B[39m), \u001B[38;5;124m\"\u001B[39m\u001B[38;5;124mThe game is already won.\u001B[39m\u001B[38;5;124m\"\u001B[39m\n\u001B[1;32m---> 53\u001B[0m \u001B[38;5;28;01massert\u001B[39;00m (\u001B[38;5;28mself\u001B[39m\u001B[38;5;241m.\u001B[39mboard[coordinates[\u001B[38;5;241m0\u001B[39m]][coordinates[\u001B[38;5;241m1\u001B[39m]] \u001B[38;5;241m==\u001B[39m \u001B[38;5;241m0\u001B[39m), \u001B[38;5;124m\"\u001B[39m\u001B[38;5;124mThese coordinates already contain a stone.\u001B[39m\u001B[38;5;124m\"\u001B[39m\n\u001B[0;32m     54\u001B[0m \u001B[38;5;28;01mfrom\u001B[39;00m \u001B[38;5;21;01mcopy\u001B[39;00m \u001B[38;5;28;01mimport\u001B[39;00m deepcopy\n\u001B[0;32m     55\u001B[0m \u001B[38;5;66;03m# make the move\u001B[39;00m\n",
      "\u001B[1;31mAssertionError\u001B[0m: These coordinates already contain a stone."
     ]
    }
   ],
   "source": [
    "import sys\n",
    "\n",
    "env.reset()\n",
    "q_learner.learn(batch_size=64, num_episodes=sys.maxsize, eps_start=0.1, eps_end=0.1, eps_decay=1, gamma=1,\n",
    "                target_net_update_rate=0.0005, learning_rate=0.001, print_every=50)"
   ],
   "metadata": {
    "collapsed": false
   }
  },
  {
   "cell_type": "code",
   "execution_count": null,
   "outputs": [],
   "source": [
    "import os\n",
    "import torch\n",
    "\n",
    "# load newest model from models folder\n",
    "q_learner.load_policy(\"models/model.pt\")\n",
    "\n",
    "\n",
    "def machine(board, action_set):\n",
    "    board = convert_board(env.engine, board)\n",
    "    board = np.array(board)\n",
    "    board = board.transpose((2, 0, 1))\n",
    "    board = torch.tensor(board, dtype=torch.float32, device=q_learner.device).unsqueeze(0)\n",
    "    action_set = [env.engine.coordinate_to_scalar(x) for x in action_set]\n",
    "    return env.engine.scalar_to_coordinates(q_learner._eps_greedy_action(board, 0, action_set))\n",
    "\n",
    "\n",
    "env.engine.reset()\n",
    "env.engine.machine_vs_machine(machine, None)"
   ],
   "metadata": {
    "collapsed": false
   }
  },
  {
   "cell_type": "code",
   "execution_count": null,
   "outputs": [],
   "source": [],
   "metadata": {
    "collapsed": false
   }
  }
 ],
 "metadata": {
  "kernelspec": {
   "display_name": "Python 3",
   "language": "python",
   "name": "python3"
  },
  "language_info": {
   "codemirror_mode": {
    "name": "ipython",
    "version": 2
   },
   "file_extension": ".py",
   "mimetype": "text/x-python",
   "name": "python",
   "nbconvert_exporter": "python",
   "pygments_lexer": "ipython2",
   "version": "2.7.6"
  }
 },
 "nbformat": 4,
 "nbformat_minor": 0
}
