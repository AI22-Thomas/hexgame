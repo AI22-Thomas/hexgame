{
 "cells": [
  {
   "cell_type": "code",
   "execution_count": 1,
   "metadata": {
    "collapsed": true,
    "ExecuteTime": {
     "end_time": "2023-05-23T01:11:18.530881600Z",
     "start_time": "2023-05-23T01:11:18.456059100Z"
    }
   },
   "outputs": [],
   "source": [
    "import numpy as np\n",
    "\n",
    "from hex_engine import HexEngine\n",
    "\n",
    "\n",
    "class HexEnum:\n",
    "    # these are indexes into the board array\n",
    "    # NONE = 0\n",
    "    # WHITE = 1\n",
    "    # WHITE_CONNECTED_LEFT = 2\n",
    "    # WHITE_CONNECTED_RIGHT = 3\n",
    "    # BLACK = 4\n",
    "    # BLACK_CONNECTED_TOP = 5\n",
    "    # BLACK_CONNECTED_BOTTOM = 6\n",
    "\n",
    "    WHITE = 0\n",
    "    WHITE_CONNECTED_LEFT = 1\n",
    "    WHITE_CONNECTED_RIGHT = 2\n",
    "    BLACK = 3\n",
    "    BLACK_CONNECTED_TOP = 4\n",
    "    BLACK_CONNECTED_BOTTOM = 5\n",
    "\n",
    "\n",
    "BOARD_SIZE = 3"
   ]
  },
  {
   "cell_type": "code",
   "execution_count": 2,
   "outputs": [],
   "source": [
    "def create_board(size):\n",
    "    # Board is padded with 1 rows and 1 columns on each side\n",
    "    board = []\n",
    "    for row in range(size + 2):\n",
    "        board.append([])\n",
    "        for column in range(size + 2):\n",
    "            # First two columns and last two are white\n",
    "            # First two rows and last two are black\n",
    "            black_top = 1 if row < 1 else 0\n",
    "            black_bottom = 1 if row > size else 0\n",
    "            white_left = 1 if column < 1 else 0\n",
    "            white_right = 1 if column > size else 0\n",
    "            black = 1 if black_top or black_bottom else 0\n",
    "            white = 1 if white_left or white_right else 0\n",
    "            board[row].append([white, white_left, white_right, black, black_top, black_bottom])\n",
    "            # if black and white:\n",
    "            #     board[row].append(0)\n",
    "            # elif black_top:\n",
    "            #     board[row].append(HexEnum.BLACK_CONNECTED_TOP)\n",
    "            # elif black_bottom:\n",
    "            #     board[row].append(HexEnum.BLACK_CONNECTED_BOTTOM)\n",
    "            # elif white_left:\n",
    "            #     board[row].append(HexEnum.WHITE_CONNECTED_LEFT)\n",
    "            # elif white_right:\n",
    "            #     board[row].append(HexEnum.WHITE_CONNECTED_RIGHT)\n",
    "            # else:\n",
    "            #     board[row].append(0)\n",
    "    return board"
   ],
   "metadata": {
    "collapsed": false,
    "ExecuteTime": {
     "end_time": "2023-05-23T01:11:18.546880800Z",
     "start_time": "2023-05-23T01:11:18.533881900Z"
    }
   }
  },
  {
   "cell_type": "code",
   "execution_count": 3,
   "outputs": [],
   "source": [
    "def draw_board(board):\n",
    "    for i in range(len(board)):\n",
    "        for j in range(len(board)):\n",
    "            # w = white, b = black, ' ' = empty\n",
    "            # W = white connected, B = black connected\n",
    "            # X = both colors\n",
    "            if board[i][j][0] == 1 and board[i][j][3] == 1:\n",
    "                print('X', end='')\n",
    "            elif board[i][j][0] == 1:\n",
    "                if board[i][j][1] == 1:\n",
    "                    print('W', end='')\n",
    "                elif board[i][j][2] == 1:\n",
    "                    print('W', end='')\n",
    "                else:\n",
    "                    print('w', end='')\n",
    "            elif board[i][j][3] == 1:\n",
    "                if board[i][j][4] == 1:\n",
    "                    print('B', end='')\n",
    "                elif board[i][j][5] == 1:\n",
    "                    print('B', end='')\n",
    "                else:\n",
    "                    print('b', end='')\n",
    "            else:\n",
    "                print(' ', end='')\n",
    "            # if board[i][j] == 0:\n",
    "            #     print(' ', end='')\n",
    "            # elif board[i][j] == HexEnum.WHITE_CONNECTED_LEFT:\n",
    "            #     print('W', end='')\n",
    "            # elif board[i][j] == HexEnum.WHITE_CONNECTED_RIGHT:\n",
    "            #     print('W', end='')\n",
    "            # elif board[i][j] == HexEnum.BLACK_CONNECTED_TOP:\n",
    "            #     print('B', end='')\n",
    "            # elif board[i][j] == HexEnum.BLACK_CONNECTED_BOTTOM:\n",
    "            #     print('B', end='')\n",
    "            # elif board[i][j] == HexEnum.BLACK:\n",
    "            #     print('b', end='')\n",
    "            # elif board[i][j] == HexEnum.WHITE:\n",
    "            #     print('w', end='')\n",
    "        print()"
   ],
   "metadata": {
    "collapsed": false,
    "ExecuteTime": {
     "end_time": "2023-05-23T01:11:18.570881500Z",
     "start_time": "2023-05-23T01:11:18.549880600Z"
    }
   }
  },
  {
   "cell_type": "code",
   "execution_count": 4,
   "outputs": [
    {
     "name": "stdout",
     "output_type": "stream",
     "text": [
      "XBBBX\n",
      "W   W\n",
      "W   W\n",
      "W   W\n",
      "XBBBX\n"
     ]
    }
   ],
   "source": [
    "draw_board(create_board(BOARD_SIZE))"
   ],
   "metadata": {
    "collapsed": false,
    "ExecuteTime": {
     "end_time": "2023-05-23T01:11:18.578881900Z",
     "start_time": "2023-05-23T01:11:18.562882800Z"
    }
   }
  },
  {
   "cell_type": "code",
   "execution_count": 5,
   "outputs": [],
   "source": [
    "def convert_board(engine, engine_board):\n",
    "    board = create_board(BOARD_SIZE)\n",
    "    for i in range(len(engine_board)):\n",
    "        for j in range(len(engine_board)):\n",
    "            if engine_board[i][j] == -1:\n",
    "                board[i + 1][j + 1] = [0, 0, 0, 1, 0, 0]\n",
    "                # board[i + 2][j + 2] = HexEnum.BLACK\n",
    "                # Breadth first search to find connected black pieces\n",
    "\n",
    "            elif engine_board[i][j] == 1:\n",
    "                board[i + 1][j + 1] = [1, 0, 0, 0, 0, 0]\n",
    "                # board[i + 2][j + 2] = HexEnum.WHITE\n",
    "\n",
    "    def rec_walk(visited, position, hex_enum, color):\n",
    "        if position in visited:\n",
    "            return\n",
    "        visited.add(position)\n",
    "        adjacent = engine._get_adjacent(position)\n",
    "        for adj in adjacent:\n",
    "            if engine_board[adj[0]][adj[1]] == color:\n",
    "                board[adj[0] + 1][adj[1] + 1][hex_enum] = 1\n",
    "                # board[adj[0] + 2][adj[1] + 2] = hex_enum\n",
    "                rec_walk(visited, adj, hex_enum, color)\n",
    "\n",
    "    # From all edges, find connected pieces\n",
    "\n",
    "    for i in range(0, BOARD_SIZE):\n",
    "        # Top edge\n",
    "        if engine_board[0][i] == -1:\n",
    "            board[1][i + 1][HexEnum.BLACK_CONNECTED_TOP] = 1\n",
    "            # board[2][i + 2] = HexEnum.BLACK_CONNECTED_TOP\n",
    "            visited = {0, i}\n",
    "            rec_walk(visited, (0, i), HexEnum.BLACK_CONNECTED_TOP, -1)\n",
    "        # Bottom edge\n",
    "        if engine_board[BOARD_SIZE - 1][i] == -1:\n",
    "            board[BOARD_SIZE][i + 1][HexEnum.BLACK_CONNECTED_BOTTOM] = 1\n",
    "            # board[BOARD_SIZE + 1][i + 2] = HexEnum.BLACK_CONNECTED_BOTTOM\n",
    "            visited = {BOARD_SIZE - 1, i}\n",
    "            rec_walk(visited, (BOARD_SIZE - 1, i), HexEnum.BLACK_CONNECTED_BOTTOM, -1)\n",
    "        # Left edge\n",
    "        if engine_board[i][0] == 1:\n",
    "            board[i + 1][1][HexEnum.WHITE_CONNECTED_LEFT] = 1\n",
    "            # board[i + 2][2] = HexEnum.WHITE_CONNECTED_LEFT\n",
    "            visited = {i, 0}\n",
    "            rec_walk(visited, (i, 0), HexEnum.WHITE_CONNECTED_LEFT, 1)\n",
    "        # Right edge\n",
    "        if engine_board[i][BOARD_SIZE - 1] == 1:\n",
    "            board[i + 1][BOARD_SIZE][HexEnum.WHITE_CONNECTED_RIGHT] = 1\n",
    "            # board[i + 2][BOARD_SIZE + 1] = HexEnum.WHITE_CONNECTED_RIGHT\n",
    "            visited = {i, BOARD_SIZE - 1}\n",
    "            rec_walk(visited, (i, BOARD_SIZE - 1), HexEnum.WHITE_CONNECTED_RIGHT, 1)\n",
    "\n",
    "    return board"
   ],
   "metadata": {
    "collapsed": false,
    "ExecuteTime": {
     "end_time": "2023-05-23T01:11:18.624929200Z",
     "start_time": "2023-05-23T01:11:18.585881500Z"
    }
   }
  },
  {
   "cell_type": "code",
   "execution_count": 6,
   "outputs": [
    {
     "name": "stdout",
     "output_type": "stream",
     "text": [
      "XBBBX\n",
      "WB  W\n",
      "WBBBW\n",
      "W WWW\n",
      "XBBBX\n"
     ]
    }
   ],
   "source": [
    "# random test board filled with -1 and 1 and 0\n",
    "test_board = np.random.randint(-1, 2, size=(BOARD_SIZE, BOARD_SIZE))\n",
    "test_board = convert_board(HexEngine(BOARD_SIZE), test_board)\n",
    "draw_board(test_board)"
   ],
   "metadata": {
    "collapsed": false,
    "ExecuteTime": {
     "end_time": "2023-05-23T01:11:18.630931Z",
     "start_time": "2023-05-23T01:11:18.596882Z"
    }
   }
  },
  {
   "cell_type": "code",
   "execution_count": 7,
   "outputs": [],
   "source": [
    "class HexEnv(object):\n",
    "    def __init__(self):\n",
    "        self.engine = HexEngine(BOARD_SIZE)\n",
    "        self.board = create_board(BOARD_SIZE)\n",
    "\n",
    "    def reset(self):\n",
    "        self.engine.reset()\n",
    "        self.board = create_board(BOARD_SIZE)\n",
    "\n",
    "        np_board = np.array(self.board)\n",
    "        np_board = np_board.transpose((2, 0, 1))\n",
    "        # np_board = np_board.flatten()\n",
    "\n",
    "        return np_board, None\n",
    "\n",
    "    def action_space(self):\n",
    "        return [self.engine.coordinate_to_scalar(x) for x in\n",
    "                self.engine.get_action_space(recode_black_as_white=self.engine.player == -1)]\n",
    "\n",
    "    def step(self, action):\n",
    "        action = self.engine.scalar_to_coordinates(action)\n",
    "\n",
    "        if self.engine.player == -1:\n",
    "            action = self.engine.recode_coordinates(action)\n",
    "\n",
    "        self.engine.move(action)\n",
    "        e_board = self.engine.board\n",
    "        if self.engine.player == -1:\n",
    "            e_board = self.engine.recode_black_as_white()\n",
    "        self.board = convert_board(self.engine, e_board)\n",
    "\n",
    "        reward = 0\n",
    "        if self.engine.winner != 0:\n",
    "            reward = 1 if self.engine.winner == 1 else -1\n",
    "\n",
    "        np_board = np.array(self.board)\n",
    "        np_board = np_board.transpose((2, 0, 1))\n",
    "        # np_board = np_board.flatten()\n",
    "        return np_board, reward, self.engine.winner != 0, self.action_space()\n",
    "\n",
    "    def close(self):\n",
    "        pass"
   ],
   "metadata": {
    "collapsed": false,
    "ExecuteTime": {
     "end_time": "2023-05-23T01:11:18.631931800Z",
     "start_time": "2023-05-23T01:11:18.624929200Z"
    }
   }
  },
  {
   "cell_type": "markdown",
   "source": [],
   "metadata": {
    "collapsed": false
   }
  },
  {
   "cell_type": "code",
   "execution_count": 8,
   "outputs": [
    {
     "name": "stdout",
     "output_type": "stream",
     "text": [
      "Sequential(\n",
      "  (conv): Conv2d(6, 32, kernel_size=(3, 3), stride=(1, 1), padding=(1, 1))\n",
      "  (relu1): ReLU()\n",
      "  (flatten): Flatten(start_dim=1, end_dim=-1)\n",
      "  (fc1): Linear(in_features=800, out_features=128, bias=True)\n",
      "  (relu2): ReLU()\n",
      "  (fc2): Linear(in_features=128, out_features=9, bias=True)\n",
      "  (sigmoid): Sigmoid()\n",
      ")\n",
      "Sequential(\n",
      "  (conv): Conv2d(6, 32, kernel_size=(3, 3), stride=(1, 1), padding=(1, 1))\n",
      "  (relu1): ReLU()\n",
      "  (flatten): Flatten(start_dim=1, end_dim=-1)\n",
      "  (fc1): Linear(in_features=800, out_features=128, bias=True)\n",
      "  (relu2): ReLU()\n",
      "  (fc2): Linear(in_features=128, out_features=9, bias=True)\n",
      "  (sigmoid): Sigmoid()\n",
      ")\n"
     ]
    }
   ],
   "source": [
    "from deep_q import DeepQ\n",
    "\n",
    "env = HexEnv()\n",
    "q_learner = DeepQ(env)\n",
    "q_learner.initialize_networks()"
   ],
   "metadata": {
    "collapsed": false,
    "ExecuteTime": {
     "end_time": "2023-05-23T01:11:20.458636200Z",
     "start_time": "2023-05-23T01:11:18.628933500Z"
    }
   }
  },
  {
   "cell_type": "code",
   "execution_count": 9,
   "outputs": [
    {
     "ename": "KeyboardInterrupt",
     "evalue": "",
     "output_type": "error",
     "traceback": [
      "\u001B[1;31m---------------------------------------------------------------------------\u001B[0m",
      "\u001B[1;31mKeyboardInterrupt\u001B[0m                         Traceback (most recent call last)",
      "Cell \u001B[1;32mIn[9], line 4\u001B[0m\n\u001B[0;32m      1\u001B[0m \u001B[38;5;28;01mimport\u001B[39;00m \u001B[38;5;21;01msys\u001B[39;00m\n\u001B[0;32m      3\u001B[0m env\u001B[38;5;241m.\u001B[39mreset()\n\u001B[1;32m----> 4\u001B[0m \u001B[43mq_learner\u001B[49m\u001B[38;5;241;43m.\u001B[39;49m\u001B[43mlearn\u001B[49m\u001B[43m(\u001B[49m\u001B[43mbatch_size\u001B[49m\u001B[38;5;241;43m=\u001B[39;49m\u001B[38;5;241;43m64\u001B[39;49m\u001B[43m,\u001B[49m\u001B[43m \u001B[49m\u001B[43mnum_episodes\u001B[49m\u001B[38;5;241;43m=\u001B[39;49m\u001B[43msys\u001B[49m\u001B[38;5;241;43m.\u001B[39;49m\u001B[43mmaxsize\u001B[49m\u001B[43m,\u001B[49m\u001B[43m \u001B[49m\u001B[43meps_start\u001B[49m\u001B[38;5;241;43m=\u001B[39;49m\u001B[38;5;241;43m0.1\u001B[39;49m\u001B[43m,\u001B[49m\u001B[43m \u001B[49m\u001B[43meps_end\u001B[49m\u001B[38;5;241;43m=\u001B[39;49m\u001B[38;5;241;43m0.1\u001B[39;49m\u001B[43m,\u001B[49m\u001B[43m \u001B[49m\u001B[43meps_decay\u001B[49m\u001B[38;5;241;43m=\u001B[39;49m\u001B[38;5;241;43m1\u001B[39;49m\u001B[43m,\u001B[49m\u001B[43m \u001B[49m\u001B[43mgamma\u001B[49m\u001B[38;5;241;43m=\u001B[39;49m\u001B[38;5;241;43m1\u001B[39;49m\u001B[43m,\u001B[49m\n\u001B[0;32m      5\u001B[0m \u001B[43m                \u001B[49m\u001B[43mtarget_net_update_rate\u001B[49m\u001B[38;5;241;43m=\u001B[39;49m\u001B[38;5;241;43m0.001\u001B[39;49m\u001B[43m,\u001B[49m\u001B[43m \u001B[49m\u001B[43mlearning_rate\u001B[49m\u001B[38;5;241;43m=\u001B[39;49m\u001B[38;5;241;43m0.001\u001B[39;49m\u001B[43m,\u001B[49m\u001B[43m \u001B[49m\u001B[43mprint_every\u001B[49m\u001B[38;5;241;43m=\u001B[39;49m\u001B[38;5;241;43m200\u001B[39;49m\u001B[43m,\u001B[49m\u001B[43m \u001B[49m\u001B[43msave_every\u001B[49m\u001B[38;5;241;43m=\u001B[39;49m\u001B[38;5;241;43m200\u001B[39;49m\u001B[43m,\u001B[49m\u001B[43m \u001B[49m\u001B[43mrandom_start\u001B[49m\u001B[38;5;241;43m=\u001B[39;49m\u001B[38;5;28;43;01mTrue\u001B[39;49;00m\u001B[43m,\u001B[49m\n\u001B[0;32m      6\u001B[0m \u001B[43m                \u001B[49m\u001B[43mstart_from_model\u001B[49m\u001B[38;5;241;43m=\u001B[39;49m\u001B[38;5;124;43m\"\u001B[39;49m\u001B[38;5;124;43mmodels/model.pt\u001B[39;49m\u001B[38;5;124;43m\"\u001B[39;49m\n\u001B[0;32m      7\u001B[0m \u001B[43m                \u001B[49m\u001B[43m)\u001B[49m\n",
      "File \u001B[1;32mX:\\FH Technikum\\REIL\\HexGame\\deep_q.py:306\u001B[0m, in \u001B[0;36mDeepQ.learn\u001B[1;34m(self, num_episodes, batch_size, gamma, eps_start, eps_end, eps_decay, target_net_update_rate, learning_rate, print_every, save_every, start_from_model, random_start, self_play)\u001B[0m\n\u001B[0;32m    304\u001B[0m \u001B[38;5;28;01mif\u001B[39;00m i_episode \u001B[38;5;241m%\u001B[39m print_every \u001B[38;5;241m==\u001B[39m \u001B[38;5;241m0\u001B[39m:\n\u001B[0;32m    305\u001B[0m     clear_output(wait\u001B[38;5;241m=\u001B[39m\u001B[38;5;28;01mTrue\u001B[39;00m)\n\u001B[1;32m--> 306\u001B[0m     \u001B[38;5;28;43mself\u001B[39;49m\u001B[38;5;241;43m.\u001B[39;49m\u001B[43mevaluate\u001B[49m\u001B[43m(\u001B[49m\u001B[43mtitle\u001B[49m\u001B[38;5;241;43m=\u001B[39;49m\u001B[38;5;124;43m\"\u001B[39;49m\u001B[38;5;124;43mEpisode \u001B[39;49m\u001B[38;5;132;43;01m{}\u001B[39;49;00m\u001B[38;5;124;43m finished after \u001B[39;49m\u001B[38;5;132;43;01m{}\u001B[39;49;00m\u001B[38;5;124;43m timesteps\u001B[39;49m\u001B[38;5;124;43m\"\u001B[39;49m\u001B[38;5;241;43m.\u001B[39;49m\u001B[43mformat\u001B[49m\u001B[43m(\u001B[49m\u001B[43mi_episode\u001B[49m\u001B[43m,\u001B[49m\u001B[43m \u001B[49m\u001B[43mt\u001B[49m\u001B[43m \u001B[49m\u001B[38;5;241;43m+\u001B[39;49m\u001B[43m \u001B[49m\u001B[38;5;241;43m1\u001B[39;49m\u001B[43m)\u001B[49m\u001B[43m)\u001B[49m\n\u001B[0;32m    307\u001B[0m \u001B[38;5;28;01mif\u001B[39;00m i_episode \u001B[38;5;241m%\u001B[39m save_every \u001B[38;5;241m==\u001B[39m \u001B[38;5;241m0\u001B[39m:\n\u001B[0;32m    308\u001B[0m     torch\u001B[38;5;241m.\u001B[39msave(\u001B[38;5;28mself\u001B[39m\u001B[38;5;241m.\u001B[39mpolicy_net\u001B[38;5;241m.\u001B[39mstate_dict(), \u001B[38;5;124m\"\u001B[39m\u001B[38;5;124mmodels/model.pt\u001B[39m\u001B[38;5;124m\"\u001B[39m)\n",
      "File \u001B[1;32mX:\\FH Technikum\\REIL\\HexGame\\deep_q.py:326\u001B[0m, in \u001B[0;36mDeepQ.evaluate\u001B[1;34m(self, title)\u001B[0m\n\u001B[0;32m    322\u001B[0m \u001B[38;5;28;01mdef\u001B[39;00m \u001B[38;5;21mevaluate\u001B[39m(\u001B[38;5;28mself\u001B[39m, title\u001B[38;5;241m=\u001B[39m\u001B[38;5;124m\"\u001B[39m\u001B[38;5;124m\"\u001B[39m):\n\u001B[0;32m    323\u001B[0m \u001B[38;5;250m    \u001B[39m\u001B[38;5;124;03m\"\"\"\u001B[39;00m\n\u001B[0;32m    324\u001B[0m \u001B[38;5;124;03m    Plot the reward history to standard output.\u001B[39;00m\n\u001B[0;32m    325\u001B[0m \u001B[38;5;124;03m    \"\"\"\u001B[39;00m\n\u001B[1;32m--> 326\u001B[0m     rewards \u001B[38;5;241m=\u001B[39m \u001B[38;5;28;43mself\u001B[39;49m\u001B[38;5;241;43m.\u001B[39;49m\u001B[43mplay\u001B[49m\u001B[43m(\u001B[49m\u001B[38;5;28;43mself\u001B[39;49m\u001B[38;5;241;43m.\u001B[39;49m\u001B[43menv\u001B[49m\u001B[43m,\u001B[49m\u001B[43m \u001B[49m\u001B[38;5;241;43m500\u001B[39;49m\u001B[43m)\u001B[49m\n\u001B[0;32m    327\u001B[0m     \u001B[38;5;28mself\u001B[39m\u001B[38;5;241m.\u001B[39mreward_history\u001B[38;5;241m.\u001B[39mappend(\u001B[38;5;28msum\u001B[39m(rewards) \u001B[38;5;241m/\u001B[39m \u001B[38;5;28mlen\u001B[39m(rewards))\n\u001B[0;32m    328\u001B[0m     \u001B[38;5;66;03m# plot reward history\u001B[39;00m\n",
      "File \u001B[1;32mX:\\FH Technikum\\REIL\\HexGame\\deep_q.py:178\u001B[0m, in \u001B[0;36mDeepQ.play\u001B[1;34m(self, env, games, self_play)\u001B[0m\n\u001B[0;32m    176\u001B[0m state, _ \u001B[38;5;241m=\u001B[39m env\u001B[38;5;241m.\u001B[39mreset()\n\u001B[0;32m    177\u001B[0m \u001B[38;5;66;03m# coerce the state to torch tensor type\u001B[39;00m\n\u001B[1;32m--> 178\u001B[0m state \u001B[38;5;241m=\u001B[39m \u001B[43mtorch\u001B[49m\u001B[38;5;241;43m.\u001B[39;49m\u001B[43mtensor\u001B[49m\u001B[43m(\u001B[49m\u001B[43mstate\u001B[49m\u001B[43m,\u001B[49m\u001B[43m \u001B[49m\u001B[43mdtype\u001B[49m\u001B[38;5;241;43m=\u001B[39;49m\u001B[43mtorch\u001B[49m\u001B[38;5;241;43m.\u001B[39;49m\u001B[43mfloat32\u001B[49m\u001B[43m,\u001B[49m\u001B[43m \u001B[49m\u001B[43mdevice\u001B[49m\u001B[38;5;241;43m=\u001B[39;49m\u001B[38;5;28;43mself\u001B[39;49m\u001B[38;5;241;43m.\u001B[39;49m\u001B[43mdevice\u001B[49m\u001B[43m)\u001B[49m\u001B[38;5;241m.\u001B[39munsqueeze(\u001B[38;5;241m0\u001B[39m)\n\u001B[0;32m    179\u001B[0m \u001B[38;5;28;01mfor\u001B[39;00m t \u001B[38;5;129;01min\u001B[39;00m count():\n\u001B[0;32m    180\u001B[0m     \u001B[38;5;66;03m# select action\u001B[39;00m\n\u001B[0;32m    181\u001B[0m     action \u001B[38;5;241m=\u001B[39m \u001B[38;5;28mself\u001B[39m\u001B[38;5;241m.\u001B[39m_eps_greedy_action(state, eps\u001B[38;5;241m=\u001B[39m\u001B[38;5;241m0\u001B[39m)\n",
      "\u001B[1;31mKeyboardInterrupt\u001B[0m: "
     ]
    }
   ],
   "source": [
    "import sys\n",
    "\n",
    "env.reset()\n",
    "q_learner.learn(batch_size=64, num_episodes=sys.maxsize, eps_start=0.1, eps_end=0.1, eps_decay=1, gamma=1,\n",
    "                target_net_update_rate=0.001, learning_rate=0.001, print_every=200, save_every=200, random_start=True,\n",
    "                start_from_model=\"models/model.pt\"\n",
    "                )"
   ],
   "metadata": {
    "collapsed": false
   }
  },
  {
   "cell_type": "code",
   "execution_count": null,
   "outputs": [],
   "source": [
    "import os\n",
    "import torch\n",
    "\n",
    "# load newest model from models folder\n",
    "q_learner.load_policy(\"models/model.pt\")\n",
    "\n",
    "\n",
    "def machine(board, action_set):\n",
    "    board = convert_board(env.engine, board)\n",
    "    board = np.array(board)\n",
    "    board = board.transpose((2, 0, 1))\n",
    "    board = torch.tensor(board, dtype=torch.float32, device=q_learner.device).unsqueeze(0)\n",
    "    action_set = [env.engine.coordinate_to_scalar(x) for x in action_set]\n",
    "    return env.engine.scalar_to_coordinates(q_learner._eps_greedy_action(board, 0, action_set))\n",
    "\n",
    "\n",
    "env.engine.reset()\n",
    "env.engine.machine_vs_machine(machine, None)"
   ],
   "metadata": {
    "collapsed": false
   }
  },
  {
   "cell_type": "code",
   "execution_count": null,
   "outputs": [],
   "source": [],
   "metadata": {
    "collapsed": false
   }
  }
 ],
 "metadata": {
  "kernelspec": {
   "display_name": "Python 3",
   "language": "python",
   "name": "python3"
  },
  "language_info": {
   "codemirror_mode": {
    "name": "ipython",
    "version": 2
   },
   "file_extension": ".py",
   "mimetype": "text/x-python",
   "name": "python",
   "nbconvert_exporter": "python",
   "pygments_lexer": "ipython2",
   "version": "2.7.6"
  }
 },
 "nbformat": 4,
 "nbformat_minor": 0
}
