{
 "cells": [
  {
   "cell_type": "code",
   "execution_count": 1,
   "metadata": {
    "collapsed": true,
    "ExecuteTime": {
     "end_time": "2023-05-22T02:53:16.025575100Z",
     "start_time": "2023-05-22T02:53:15.934576100Z"
    }
   },
   "outputs": [],
   "source": [
    "import numpy as np\n",
    "\n",
    "from hex_engine import HexEngine\n",
    "\n",
    "\n",
    "class HexEnum:\n",
    "    # these are indexes into the board array\n",
    "    NONE = 0\n",
    "    WHITE = 1\n",
    "    WHITE_CONNECTED_LEFT = 2\n",
    "    WHITE_CONNECTED_RIGHT = 3\n",
    "    BLACK = 4\n",
    "    BLACK_CONNECTED_TOP = 5\n",
    "    BLACK_CONNECTED_BOTTOM = 6\n",
    "\n",
    "\n",
    "BOARD_SIZE = 3"
   ]
  },
  {
   "cell_type": "code",
   "execution_count": 2,
   "outputs": [],
   "source": [
    "def create_board(size):\n",
    "    # Board is padded with 2 rows and 2 columns on each side\n",
    "    board = []\n",
    "    for row in range(size + 4):\n",
    "        board.append([])\n",
    "        for column in range(size + 4):\n",
    "            # First two columns and last two are white\n",
    "            # First two rows and last two are black\n",
    "            black_top = 1 if row < 2 else 0\n",
    "            black_bottom = 1 if row > size + 1 else 0\n",
    "            white_left = 1 if column < 2 else 0\n",
    "            white_right = 1 if column > size + 1 else 0\n",
    "            black = 1 if black_top or black_bottom else 0\n",
    "            white = 1 if white_left or white_right else 0\n",
    "            # board[row].append([white, white_left, white_right, black, black_top, black_bottom])\n",
    "            if black and white:\n",
    "                board[row].append(0)\n",
    "            elif black_top:\n",
    "                board[row].append(HexEnum.BLACK_CONNECTED_TOP)\n",
    "            elif black_bottom:\n",
    "                board[row].append(HexEnum.BLACK_CONNECTED_BOTTOM)\n",
    "            elif white_left:\n",
    "                board[row].append(HexEnum.WHITE_CONNECTED_LEFT)\n",
    "            elif white_right:\n",
    "                board[row].append(HexEnum.WHITE_CONNECTED_RIGHT)\n",
    "            else:\n",
    "                board[row].append(0)\n",
    "    return board"
   ],
   "metadata": {
    "collapsed": false,
    "ExecuteTime": {
     "end_time": "2023-05-22T02:53:16.041576600Z",
     "start_time": "2023-05-22T02:53:16.029575900Z"
    }
   }
  },
  {
   "cell_type": "code",
   "execution_count": 3,
   "outputs": [],
   "source": [
    "def draw_board(board):\n",
    "    for i in range(len(board)):\n",
    "        for j in range(len(board)):\n",
    "            # w = white, b = black, ' ' = empty\n",
    "            # W = white connected, B = black connected\n",
    "            # X = both colors\n",
    "            # if board[i][j][0] == 1 and board[i][j][3] == 1:\n",
    "            #     print('X', end='')\n",
    "            # elif board[i][j][0] == 1:\n",
    "            #     if board[i][j][1] == 1:\n",
    "            #         print('W', end='')\n",
    "            #     elif board[i][j][2] == 1:\n",
    "            #         print('W', end='')\n",
    "            #     else:\n",
    "            #         print('w', end='')\n",
    "            # elif board[i][j][3] == 1:\n",
    "            #     if board[i][j][4] == 1:\n",
    "            #         print('B', end='')\n",
    "            #     elif board[i][j][5] == 1:\n",
    "            #         print('B', end='')\n",
    "            #     else:\n",
    "            #         print('b', end='')\n",
    "            # else:\n",
    "            #     print(' ', end='')\n",
    "            if board[i][j] == 0:\n",
    "                print(' ', end='')\n",
    "            elif board[i][j] == HexEnum.WHITE_CONNECTED_LEFT:\n",
    "                print('W', end='')\n",
    "            elif board[i][j] == HexEnum.WHITE_CONNECTED_RIGHT:\n",
    "                print('W', end='')\n",
    "            elif board[i][j] == HexEnum.BLACK_CONNECTED_TOP:\n",
    "                print('B', end='')\n",
    "            elif board[i][j] == HexEnum.BLACK_CONNECTED_BOTTOM:\n",
    "                print('B', end='')\n",
    "            elif board[i][j] == HexEnum.BLACK:\n",
    "                print('b', end='')\n",
    "            elif board[i][j] == HexEnum.WHITE:\n",
    "                print('w', end='')\n",
    "        print()"
   ],
   "metadata": {
    "collapsed": false,
    "ExecuteTime": {
     "end_time": "2023-05-22T02:53:16.068575500Z",
     "start_time": "2023-05-22T02:53:16.045575500Z"
    }
   }
  },
  {
   "cell_type": "code",
   "execution_count": 4,
   "outputs": [
    {
     "name": "stdout",
     "output_type": "stream",
     "text": [
      "  BBB  \n",
      "  BBB  \n",
      "WW   WW\n",
      "WW   WW\n",
      "WW   WW\n",
      "  BBB  \n",
      "  BBB  \n"
     ]
    }
   ],
   "source": [
    "draw_board(create_board(BOARD_SIZE))"
   ],
   "metadata": {
    "collapsed": false,
    "ExecuteTime": {
     "end_time": "2023-05-22T02:53:16.074575600Z",
     "start_time": "2023-05-22T02:53:16.059576400Z"
    }
   }
  },
  {
   "cell_type": "code",
   "execution_count": 5,
   "outputs": [],
   "source": [
    "def convert_board(engine, engine_board):\n",
    "    board = create_board(BOARD_SIZE)\n",
    "    for i in range(len(engine_board)):\n",
    "        for j in range(len(engine_board)):\n",
    "            if engine_board[i][j] == -1:\n",
    "                # board[i + 2][j + 2] = [0, 0, 0, 1, 0, 0]\n",
    "                board[i + 2][j + 2] = HexEnum.BLACK\n",
    "                # Breadth first search to find connected black pieces\n",
    "\n",
    "            elif engine_board[i][j] == 1:\n",
    "                # board[i + 2][j + 2] = [1, 0, 0, 0, 0, 0]\n",
    "                board[i + 2][j + 2] = HexEnum.WHITE\n",
    "\n",
    "    def rec_walk(visited, position, hex_enum, color):\n",
    "        if position in visited:\n",
    "            return\n",
    "        visited.add(position)\n",
    "        adjacent = engine._get_adjacent(position)\n",
    "        for adj in adjacent:\n",
    "            if engine_board[adj[0]][adj[1]] == color:\n",
    "                # board[adj[0] + 2][adj[1] + 2][hex_enum] = 1\n",
    "                board[adj[0] + 2][adj[1] + 2] = hex_enum\n",
    "                rec_walk(visited, adj, hex_enum, color)\n",
    "\n",
    "    # From all edges, find connected pieces\n",
    "\n",
    "    for i in range(0, BOARD_SIZE):\n",
    "        # Top edge\n",
    "        if engine_board[0][i] == -1:\n",
    "            # board[2][i + 2][HexEnum.BLACK_CONNECTED_TOP] = 1\n",
    "            board[2][i + 2] = HexEnum.BLACK_CONNECTED_TOP\n",
    "            visited = {0, i}\n",
    "            rec_walk(visited, (0, i), HexEnum.BLACK_CONNECTED_TOP, -1)\n",
    "        # Bottom edge\n",
    "        if engine_board[BOARD_SIZE - 1][i] == -1:\n",
    "            # board[BOARD_SIZE + 1][i + 2][HexEnum.BLACK_CONNECTED_BOTTOM] = 1\n",
    "            board[BOARD_SIZE + 1][i + 2] = HexEnum.BLACK_CONNECTED_BOTTOM\n",
    "            visited = {BOARD_SIZE - 1, i}\n",
    "            rec_walk(visited, (BOARD_SIZE - 1, i), HexEnum.BLACK_CONNECTED_BOTTOM, -1)\n",
    "        # Left edge\n",
    "        if engine_board[i][0] == 1:\n",
    "            # board[i + 2][2][HexEnum.WHITE_CONNECTED_LEFT] = 1\n",
    "            board[i + 2][2] = HexEnum.WHITE_CONNECTED_LEFT\n",
    "            visited = {i, 0}\n",
    "            rec_walk(visited, (i, 0), HexEnum.WHITE_CONNECTED_LEFT, 1)\n",
    "        # Right edge\n",
    "        if engine_board[i][BOARD_SIZE - 1] == 1:\n",
    "            # board[i + 2][BOARD_SIZE + 1][HexEnum.WHITE_CONNECTED_RIGHT] = 1\n",
    "            board[i + 2][BOARD_SIZE + 1] = HexEnum.WHITE_CONNECTED_RIGHT\n",
    "            visited = {i, BOARD_SIZE - 1}\n",
    "            rec_walk(visited, (i, BOARD_SIZE - 1), HexEnum.WHITE_CONNECTED_RIGHT, 1)\n",
    "\n",
    "    return board"
   ],
   "metadata": {
    "collapsed": false,
    "ExecuteTime": {
     "end_time": "2023-05-22T02:53:16.088576800Z",
     "start_time": "2023-05-22T02:53:16.075574700Z"
    }
   }
  },
  {
   "cell_type": "code",
   "execution_count": 6,
   "outputs": [
    {
     "name": "stdout",
     "output_type": "stream",
     "text": [
      "  BBB  \n",
      "  BBB  \n",
      "WWBw WW\n",
      "WW B WW\n",
      "WWBWWWW\n",
      "  BBB  \n",
      "  BBB  \n"
     ]
    }
   ],
   "source": [
    "# random test board filled with -1 and 1 and 0\n",
    "test_board = np.random.randint(-1, 2, size=(BOARD_SIZE, BOARD_SIZE))\n",
    "test_board = convert_board(HexEngine(BOARD_SIZE), test_board)\n",
    "draw_board(test_board)"
   ],
   "metadata": {
    "collapsed": false,
    "ExecuteTime": {
     "end_time": "2023-05-22T02:53:16.149577700Z",
     "start_time": "2023-05-22T02:53:16.089578400Z"
    }
   }
  },
  {
   "cell_type": "code",
   "execution_count": 7,
   "outputs": [],
   "source": [
    "class HexEnv(object):\n",
    "    def __init__(self):\n",
    "        self.engine = HexEngine(BOARD_SIZE)\n",
    "        self.board = create_board(BOARD_SIZE)\n",
    "\n",
    "    def reset(self):\n",
    "        self.engine.reset()\n",
    "        self.board = create_board(BOARD_SIZE)\n",
    "\n",
    "        np_board = np.array(self.engine.board)\n",
    "        # np_board = np_board.transpose((2, 0, 1))\n",
    "        np_board = np_board.flatten()\n",
    "\n",
    "        return np_board, None\n",
    "\n",
    "    def action_space(self):\n",
    "        return [self.engine.coordinate_to_scalar(x) for x in\n",
    "                self.engine.get_action_space(recode_black_as_white=self.engine.player == -1)]\n",
    "\n",
    "    def step(self, action):\n",
    "        action = self.engine.scalar_to_coordinates(action)\n",
    "\n",
    "        if self.engine.player == -1:\n",
    "            action = self.engine.recode_coordinates(action)\n",
    "\n",
    "        self.engine.move(action)\n",
    "        e_board = self.engine.board\n",
    "        if self.engine.player == -1:\n",
    "            e_board = self.engine.recode_black_as_white()\n",
    "        self.board = e_board\n",
    "\n",
    "        reward = 0\n",
    "        if self.engine.winner != 0:\n",
    "            reward = 1 if self.engine.winner == 1 else -1\n",
    "\n",
    "        np_board = np.array(self.board)\n",
    "        # np_board = np_board.transpose((2, 0, 1))\n",
    "        np_board = np_board.flatten()\n",
    "        return np_board, reward, self.engine.winner != 0, False\n",
    "\n",
    "    def close(self):\n",
    "        pass"
   ],
   "metadata": {
    "collapsed": false,
    "ExecuteTime": {
     "end_time": "2023-05-22T02:53:16.166575800Z",
     "start_time": "2023-05-22T02:53:16.108575700Z"
    }
   }
  },
  {
   "cell_type": "code",
   "execution_count": 8,
   "outputs": [
    {
     "name": "stdout",
     "output_type": "stream",
     "text": [
      "Sequential(\n",
      "  (0): Linear(in_features=9, out_features=128, bias=True)\n",
      "  (1): ReLU()\n",
      "  (2): Linear(in_features=128, out_features=9, bias=True)\n",
      ")\n",
      "Sequential(\n",
      "  (0): Linear(in_features=9, out_features=128, bias=True)\n",
      "  (1): ReLU()\n",
      "  (2): Linear(in_features=128, out_features=9, bias=True)\n",
      ")\n"
     ]
    }
   ],
   "source": [
    "from deep_q import DeepQ\n",
    "\n",
    "env = HexEnv()\n",
    "q_learner = DeepQ(env)\n",
    "q_learner.initialize_networks()"
   ],
   "metadata": {
    "collapsed": false,
    "ExecuteTime": {
     "end_time": "2023-05-22T02:53:19.381565700Z",
     "start_time": "2023-05-22T02:53:16.121575700Z"
    }
   }
  },
  {
   "cell_type": "code",
   "execution_count": 9,
   "outputs": [
    {
     "name": "stderr",
     "output_type": "stream",
     "text": [
      "\n",
      "KeyboardInterrupt\n",
      "\n"
     ]
    }
   ],
   "source": [
    "env.reset()\n",
    "q_learner.learn(batch_size=128, num_episodes=20000, eps_start=0.1, eps_end=0.1, eps_decay=800, gamma=1,\n",
    "                target_net_update_rate=0.005, learning_rate=1e-4, print_every=50)"
   ],
   "metadata": {
    "collapsed": false
   }
  },
  {
   "cell_type": "code",
   "execution_count": null,
   "outputs": [],
   "source": [
    "import os\n",
    "import torch\n",
    "\n",
    "# load newest model from models folder\n",
    "files = os.listdir('models')\n",
    "# get file with biggest number\n",
    "files.sort(key=lambda x: int(x.split('.')[0].split('_')[1]))\n",
    "q_learner.load_policy('models/' + files[-1])\n",
    "\n",
    "\n",
    "def machine(board, action_set):\n",
    "    # board = convert_board(env.engine, board)\n",
    "    board = env.engine.board\n",
    "    board = np.array(board).flatten()\n",
    "    # board = board.transpose((2, 0, 1))\n",
    "    board = torch.tensor(board, dtype=torch.float32, device=q_learner.device).unsqueeze(0)\n",
    "    action_set = [env.engine.coordinate_to_scalar(x) for x in action_set]\n",
    "    return env.engine.scalar_to_coordinates(q_learner._eps_greedy_action(board, 0, action_set))\n",
    "\n",
    "\n",
    "env.engine.reset()\n",
    "env.engine.machine_vs_machine(machine, None)"
   ],
   "metadata": {
    "collapsed": false
   }
  },
  {
   "cell_type": "code",
   "execution_count": null,
   "outputs": [],
   "source": [],
   "metadata": {
    "collapsed": false
   }
  }
 ],
 "metadata": {
  "kernelspec": {
   "display_name": "Python 3",
   "language": "python",
   "name": "python3"
  },
  "language_info": {
   "codemirror_mode": {
    "name": "ipython",
    "version": 2
   },
   "file_extension": ".py",
   "mimetype": "text/x-python",
   "name": "python",
   "nbconvert_exporter": "python",
   "pygments_lexer": "ipython2",
   "version": "2.7.6"
  }
 },
 "nbformat": 4,
 "nbformat_minor": 0
}
